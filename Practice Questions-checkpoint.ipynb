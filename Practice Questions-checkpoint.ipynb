{
 "cells": [
  {
   "cell_type": "markdown",
   "metadata": {},
   "source": [
    "# Section 1: Arrays and Strings"
   ]
  },
  {
   "cell_type": "markdown",
   "metadata": {},
   "source": [
    "### 1.1 Is Unique \n",
    "##### Implement an algorithm to determine if a string has all unique characters. What if you cannot use additional data structures?"
   ]
  },
  {
   "cell_type": "code",
   "execution_count": 5,
   "metadata": {
    "collapsed": true
   },
   "outputs": [],
   "source": [
    "def isUnique(string):  \n",
    "    for i in range(0,len(string)):  \n",
    "        for j in range (i+1,len(string)):  \n",
    "            if string[i]==string[j]:  \n",
    "                return False  \n",
    "    return True\n",
    "\n",
    "#does not work with capital letters"
   ]
  },
  {
   "cell_type": "code",
   "execution_count": 7,
   "metadata": {},
   "outputs": [
    {
     "name": "stdout",
     "output_type": "stream",
     "text": [
      "False\n",
      "True\n",
      "False\n",
      "True\n"
     ]
    }
   ],
   "source": [
    "string=\"hello\"\n",
    "print(isUnique(string))\n",
    "string=\"hi\"\n",
    "print(isUnique(string))\n",
    "string=\"Meredith\"\n",
    "print(isUnique(string))\n",
    "string=\"MEredith\"\n",
    "print(isUnique(string))"
   ]
  },
  {
   "cell_type": "markdown",
   "metadata": {},
   "source": [
    "### 1.2 Check Purmutation\n",
    "##### Given two strings, write a method to decide if one is a permutation of the other."
   ]
  },
  {
   "cell_type": "code",
   "execution_count": 19,
   "metadata": {
    "collapsed": true
   },
   "outputs": [],
   "source": [
    "def isPerm(string_a, string_b):\n",
    "    lettersa=[]\n",
    "    lettersb=[]\n",
    "    if len(string_a)!=len(string_b):\n",
    "        return False\n",
    "    for i in range(0,len(string_a)):\n",
    "        lettersa.append(0)\n",
    "        lettersb.append(0)\n",
    "    for i in range(0,len(string_a)):\n",
    "        for j in range(len(string_b)):\n",
    "            if lettersb[j]==1:\n",
    "                continue\n",
    "            if string_a[i]==string_b[j]:\n",
    "                lettersb[j]=1\n",
    "                lettersa[i]=1\n",
    "            elif j==len(string_b)-1:\n",
    "                return False\n",
    "    return True\n"
   ]
  },
  {
   "cell_type": "code",
   "execution_count": 20,
   "metadata": {},
   "outputs": [
    {
     "name": "stdout",
     "output_type": "stream",
     "text": [
      "False\n",
      "False\n"
     ]
    }
   ],
   "source": [
    "string_a=\"hello\"\n",
    "string_b=\"oelhl\"\n",
    "print(isPerm(string_a,string_b))\n",
    "\n",
    "string_a=\"permutation\"\n",
    "string_b=\"pernutation\"\n",
    "print(isPerm(string_a,string_b))"
   ]
  },
  {
   "cell_type": "markdown",
   "metadata": {},
   "source": [
    "### 1.3 URLify\n",
    "##### Write a method to replace all spaces in a string with \"%20\". You may assume that the string has sufficient space at the end to hold the additional characters, and that you are given the \"true\" length of the string."
   ]
  },
  {
   "cell_type": "code",
   "execution_count": 21,
   "metadata": {
    "collapsed": true
   },
   "outputs": [],
   "source": [
    "def URL(string):\n",
    "    for i in range(len(string)):\n",
    "        if string[i]==\" \":\n",
    "            string=string[0:i]+\"%20\"+string[i+1:len(string)]   \n",
    "    return string"
   ]
  },
  {
   "cell_type": "code",
   "execution_count": 22,
   "metadata": {},
   "outputs": [
    {
     "name": "stdout",
     "output_type": "stream",
     "text": [
      "Hello%20my%20name%20is%20Meredith\n"
     ]
    }
   ],
   "source": [
    "string= \"Hello my name is Meredith\"\n",
    "print(URL(string))"
   ]
  },
  {
   "cell_type": "markdown",
   "metadata": {},
   "source": [
    "### 1.4 Palindrome Permutation\n",
    "##### Given a string, write a function to check if it is a permutation of a palindrome"
   ]
  },
  {
   "cell_type": "code",
   "execution_count": 51,
   "metadata": {
    "collapsed": true
   },
   "outputs": [],
   "source": [
    "def palindrome(string):\n",
    "    f=0 #flag\n",
    "    odd=len(string)%2 #is the word an odd # of letters long?\n",
    "    #print(odd)\n",
    "    checked=[] \n",
    "    for i in range(len(string)):\n",
    "        checked.append(0)\n",
    "    for i in range(len(string)):\n",
    "        c=0 #counter for occurence of letter\n",
    "        for j in range(i+1, len(string)):\n",
    "            if checked[i]==0 and checked[j]==0:\n",
    "                if string[i]==string[j]:\n",
    "                    c+=1\n",
    "                    checked[j]=1\n",
    "        if c==0 and checked[i]==0:\n",
    "            if f==0 and odd==1:\n",
    "                f=1 #set flag for 1 odd ball\n",
    "            else:\n",
    "                return False\n",
    "        checked[i]=1\n",
    "    return True                    \n",
    "        "
   ]
  },
  {
   "cell_type": "code",
   "execution_count": 52,
   "metadata": {},
   "outputs": [
    {
     "name": "stdout",
     "output_type": "stream",
     "text": [
      "True\n",
      "True\n",
      "False\n"
     ]
    }
   ],
   "source": [
    "string=\"racecar\"\n",
    "print(palindrome(string))\n",
    "string=\"tacocat\"\n",
    "print(palindrome(string))\n",
    "string=\"not a palindrome\"\n",
    "print(palindrome(string))"
   ]
  },
  {
   "cell_type": "markdown",
   "metadata": {},
   "source": [
    "### 1.5 One Away\n",
    "##### There are three types of edits that can be performed on strings: insert a character, remove a character, or replace a character. Given two strings, write a function to check if they are one edit (or zero edits) away."
   ]
  },
  {
   "cell_type": "code",
   "execution_count": 79,
   "metadata": {},
   "outputs": [],
   "source": [
    "def oneEdit(string_a,string_b):\n",
    "    f=0\n",
    "    a_offset=0\n",
    "    b_offset=0\n",
    "    AR=len(string_a)%len(string_b)\n",
    "    max_length=max(len(string_a),len(string_b))\n",
    "    for i in range(max_length):\n",
    "        if i<len(string_a) and i<len(string_b):\n",
    "            if string_a[i+a_offset]!=string_b[i+b_offset]:\n",
    "                if f==0:\n",
    "                    f=1\n",
    "                    if AR==0:\n",
    "                        continue\n",
    "                    else:\n",
    "                        if string_a[i+1]==string_b[i]:\n",
    "                            a_offset=1\n",
    "                        elif string_a[i]==string_b[i+1]:\n",
    "                            b_offset=1\n",
    "                elif f==1:\n",
    "                    return False\n",
    "        elif a_offset==b_offset==0:\n",
    "            if f!=0:\n",
    "                return False \n",
    "    return True\n",
    "                "
   ]
  },
  {
   "cell_type": "code",
   "execution_count": 80,
   "metadata": {},
   "outputs": [
    {
     "name": "stdout",
     "output_type": "stream",
     "text": [
      "True\n",
      "True\n",
      "True\n",
      "False\n"
     ]
    }
   ],
   "source": [
    "string_a=\"hello\"\n",
    "string_b=\"Hello\"\n",
    "print(oneEdit(string_a,string_b))\n",
    "string_a=\"hello\"\n",
    "string_b=\"ello\"\n",
    "print(oneEdit(string_a,string_b))\n",
    "string_a=\"ello\"\n",
    "string_b=\"hello\"\n",
    "print(oneEdit(string_a,string_b))\n",
    "string_a=\"hello\"\n",
    "string_b=\"Helloo\"\n",
    "print(oneEdit(string_a,string_b))"
   ]
  },
  {
   "cell_type": "markdown",
   "metadata": {},
   "source": [
    "### 1.6 String Compression\n",
    "##### Implement a method to perform basic string compression using the countrs of repeated characters. For example, aabcccccaaa would be a2b1c5a3. If the \"compressed\" string would not become smaller than the original string, your method should return the original string. You can assume the string only has uppercase and lowercase letters."
   ]
  },
  {
   "cell_type": "code",
   "execution_count": 115,
   "metadata": {
    "collapsed": true
   },
   "outputs": [],
   "source": [
    "def compression(string):\n",
    "    new_string=\"\"\n",
    "    c=1 #counter\n",
    "    i=0 #pointer 1\n",
    "    while i+c<len(string):\n",
    "        if string[i]==string[i+c]:\n",
    "            c+=1\n",
    "        else:\n",
    "            new_string+=string[i]+str(c)\n",
    "            i=i+c\n",
    "            c=1\n",
    "    new_string+=string[i]+str(c)\n",
    "    if len(string)<len(new_string):\n",
    "        return string\n",
    "    else:\n",
    "        return new_string"
   ]
  },
  {
   "cell_type": "code",
   "execution_count": 116,
   "metadata": {},
   "outputs": [
    {
     "name": "stdout",
     "output_type": "stream",
     "text": [
      "a2b1c5a3\n",
      "hello\n",
      "h1e1l3o4\n"
     ]
    }
   ],
   "source": [
    "string=\"aabcccccaaa\"\n",
    "print(compression(string))\n",
    "string=\"hello\"\n",
    "print(compression(string))\n",
    "string=\"hellloooo\"\n",
    "print(compression(string))"
   ]
  },
  {
   "cell_type": "markdown",
   "metadata": {},
   "source": [
    "### 1.7 Rotate Matrix\n",
    "##### Given an image represented by an NxN matrix, where each pixel in the image is 4 bytes, write a method to rotate the image by 90 degrees. Can you do this in place?"
   ]
  },
  {
   "cell_type": "markdown",
   "metadata": {},
   "source": []
  },
  {
   "cell_type": "markdown",
   "metadata": {},
   "source": [
    "### 1.8 "
   ]
  },
  {
   "cell_type": "markdown",
   "metadata": {},
   "source": []
  },
  {
   "cell_type": "markdown",
   "metadata": {},
   "source": [
    "### 1.9"
   ]
  },
  {
   "cell_type": "markdown",
   "metadata": {},
   "source": []
  },
  {
   "cell_type": "markdown",
   "metadata": {},
   "source": [
    "# Section 2: Linked Lists"
   ]
  },
  {
   "cell_type": "code",
   "execution_count": null,
   "metadata": {
    "collapsed": true
   },
   "outputs": [],
   "source": []
  }
 ],
 "metadata": {
  "kernelspec": {
   "display_name": "Python 3",
   "language": "python",
   "name": "python3"
  },
  "language_info": {
   "codemirror_mode": {
    "name": "ipython",
    "version": 3
   },
   "file_extension": ".py",
   "mimetype": "text/x-python",
   "name": "python",
   "nbconvert_exporter": "python",
   "pygments_lexer": "ipython3",
   "version": "3.6.2"
  }
 },
 "nbformat": 4,
 "nbformat_minor": 2
}
