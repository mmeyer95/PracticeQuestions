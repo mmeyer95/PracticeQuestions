{
 "cells": [
  {
   "cell_type": "markdown",
   "metadata": {},
   "source": [
    "# Section 1: Arrays and Strings"
   ]
  },
  {
   "cell_type": "markdown",
   "metadata": {},
   "source": [
    "### 1.1 Is Unique \n",
    "##### Implement an algorithm to determine if a string has all unique characters. What if you cannot use additional data structures?"
   ]
  },
  {
   "cell_type": "code",
   "execution_count": 119,
   "metadata": {
    "collapsed": true
   },
   "outputs": [],
   "source": [
    "def isUnique(string):  \n",
    "    for i in range(0,len(string)):  \n",
    "        for j in range (i+1,len(string)):  \n",
    "            if string[i].upper()==string[j].upper():  \n",
    "                return False  \n",
    "    return True\n"
   ]
  },
  {
   "cell_type": "code",
   "execution_count": 120,
   "metadata": {},
   "outputs": [
    {
     "name": "stdout",
     "output_type": "stream",
     "text": [
      "False\n",
      "True\n",
      "False\n",
      "False\n"
     ]
    }
   ],
   "source": [
    "string=\"hello\"\n",
    "print(isUnique(string))\n",
    "string=\"hi\"\n",
    "print(isUnique(string))\n",
    "string=\"Meredith\"\n",
    "print(isUnique(string))\n",
    "string=\"MEredith\"\n",
    "print(isUnique(string))"
   ]
  },
  {
   "cell_type": "markdown",
   "metadata": {},
   "source": [
    "### 1.2 Check Purmutation\n",
    "##### Given two strings, write a method to decide if one is a permutation of the other."
   ]
  },
  {
   "cell_type": "code",
   "execution_count": 19,
   "metadata": {
    "collapsed": true
   },
   "outputs": [],
   "source": [
    "def isPerm(string_a, string_b):\n",
    "    lettersa=[]\n",
    "    lettersb=[]\n",
    "    if len(string_a)!=len(string_b):\n",
    "        return False\n",
    "    for i in range(0,len(string_a)):\n",
    "        lettersa.append(0)\n",
    "        lettersb.append(0)\n",
    "    for i in range(0,len(string_a)):\n",
    "        for j in range(len(string_b)):\n",
    "            if lettersb[j]==1:\n",
    "                continue\n",
    "            if string_a[i]==string_b[j]:\n",
    "                lettersb[j]=1\n",
    "                lettersa[i]=1\n",
    "            elif j==len(string_b)-1:\n",
    "                return False\n",
    "    return True\n"
   ]
  },
  {
   "cell_type": "code",
   "execution_count": 20,
   "metadata": {},
   "outputs": [
    {
     "name": "stdout",
     "output_type": "stream",
     "text": [
      "False\n",
      "False\n"
     ]
    }
   ],
   "source": [
    "string_a=\"hello\"\n",
    "string_b=\"oelhl\"\n",
    "print(isPerm(string_a,string_b))\n",
    "\n",
    "string_a=\"permutation\"\n",
    "string_b=\"pernutation\"\n",
    "print(isPerm(string_a,string_b))"
   ]
  },
  {
   "cell_type": "markdown",
   "metadata": {},
   "source": [
    "### 1.3 URLify\n",
    "##### Write a method to replace all spaces in a string with \"%20\". You may assume that the string has sufficient space at the end to hold the additional characters, and that you are given the \"true\" length of the string."
   ]
  },
  {
   "cell_type": "code",
   "execution_count": 21,
   "metadata": {
    "collapsed": true
   },
   "outputs": [],
   "source": [
    "def URL(string):\n",
    "    for i in range(len(string)):\n",
    "        if string[i]==\" \":\n",
    "            string=string[0:i]+\"%20\"+string[i+1:len(string)]   \n",
    "    return string"
   ]
  },
  {
   "cell_type": "code",
   "execution_count": 22,
   "metadata": {},
   "outputs": [
    {
     "name": "stdout",
     "output_type": "stream",
     "text": [
      "Hello%20my%20name%20is%20Meredith\n"
     ]
    }
   ],
   "source": [
    "string= \"Hello my name is Meredith\"\n",
    "print(URL(string))"
   ]
  },
  {
   "cell_type": "markdown",
   "metadata": {},
   "source": [
    "### 1.4 Palindrome Permutation\n",
    "##### Given a string, write a function to check if it is a permutation of a palindrome"
   ]
  },
  {
   "cell_type": "code",
   "execution_count": 51,
   "metadata": {
    "collapsed": true
   },
   "outputs": [],
   "source": [
    "def palindrome(string):\n",
    "    f=0 #flag\n",
    "    odd=len(string)%2 #is the word an odd # of letters long?\n",
    "    #print(odd)\n",
    "    checked=[] \n",
    "    for i in range(len(string)):\n",
    "        checked.append(0)\n",
    "    for i in range(len(string)):\n",
    "        c=0 #counter for occurence of letter\n",
    "        for j in range(i+1, len(string)):\n",
    "            if checked[i]==0 and checked[j]==0:\n",
    "                if string[i]==string[j]:\n",
    "                    c+=1\n",
    "                    checked[j]=1\n",
    "        if c==0 and checked[i]==0:\n",
    "            if f==0 and odd==1:\n",
    "                f=1 #set flag for 1 odd ball\n",
    "            else:\n",
    "                return False\n",
    "        checked[i]=1\n",
    "    return True                    \n",
    "        "
   ]
  },
  {
   "cell_type": "code",
   "execution_count": 52,
   "metadata": {},
   "outputs": [
    {
     "name": "stdout",
     "output_type": "stream",
     "text": [
      "True\n",
      "True\n",
      "False\n"
     ]
    }
   ],
   "source": [
    "string=\"racecar\"\n",
    "print(palindrome(string))\n",
    "string=\"tacocat\"\n",
    "print(palindrome(string))\n",
    "string=\"not a palindrome\"\n",
    "print(palindrome(string))"
   ]
  },
  {
   "cell_type": "markdown",
   "metadata": {},
   "source": [
    "### 1.5 One Away\n",
    "##### There are three types of edits that can be performed on strings: insert a character, remove a character, or replace a character. Given two strings, write a function to check if they are one edit (or zero edits) away."
   ]
  },
  {
   "cell_type": "code",
   "execution_count": 79,
   "metadata": {},
   "outputs": [],
   "source": [
    "def oneEdit(string_a,string_b):\n",
    "    f=0\n",
    "    a_offset=0\n",
    "    b_offset=0\n",
    "    AR=len(string_a)%len(string_b)\n",
    "    max_length=max(len(string_a),len(string_b))\n",
    "    for i in range(max_length):\n",
    "        if i<len(string_a) and i<len(string_b):\n",
    "            if string_a[i+a_offset]!=string_b[i+b_offset]:\n",
    "                if f==0:\n",
    "                    f=1\n",
    "                    if AR==0:\n",
    "                        continue\n",
    "                    else:\n",
    "                        if string_a[i+1]==string_b[i]:\n",
    "                            a_offset=1\n",
    "                        elif string_a[i]==string_b[i+1]:\n",
    "                            b_offset=1\n",
    "                elif f==1:\n",
    "                    return False\n",
    "        elif a_offset==b_offset==0:\n",
    "            if f!=0:\n",
    "                return False \n",
    "    return True\n",
    "                "
   ]
  },
  {
   "cell_type": "code",
   "execution_count": 80,
   "metadata": {},
   "outputs": [
    {
     "name": "stdout",
     "output_type": "stream",
     "text": [
      "True\n",
      "True\n",
      "True\n",
      "False\n"
     ]
    }
   ],
   "source": [
    "string_a=\"hello\"\n",
    "string_b=\"Hello\"\n",
    "print(oneEdit(string_a,string_b))\n",
    "string_a=\"hello\"\n",
    "string_b=\"ello\"\n",
    "print(oneEdit(string_a,string_b))\n",
    "string_a=\"ello\"\n",
    "string_b=\"hello\"\n",
    "print(oneEdit(string_a,string_b))\n",
    "string_a=\"hello\"\n",
    "string_b=\"Helloo\"\n",
    "print(oneEdit(string_a,string_b))"
   ]
  },
  {
   "cell_type": "markdown",
   "metadata": {},
   "source": [
    "### 1.6 String Compression\n",
    "##### Implement a method to perform basic string compression using the countrs of repeated characters. For example, aabcccccaaa would be a2b1c5a3. If the \"compressed\" string would not become smaller than the original string, your method should return the original string. You can assume the string only has uppercase and lowercase letters."
   ]
  },
  {
   "cell_type": "code",
   "execution_count": 115,
   "metadata": {
    "collapsed": true
   },
   "outputs": [],
   "source": [
    "def compression(string):\n",
    "    new_string=\"\"\n",
    "    c=1 #counter\n",
    "    i=0 #pointer 1\n",
    "    while i+c<len(string):\n",
    "        if string[i]==string[i+c]:\n",
    "            c+=1\n",
    "        else:\n",
    "            new_string+=string[i]+str(c)\n",
    "            i=i+c\n",
    "            c=1\n",
    "    new_string+=string[i]+str(c)\n",
    "    if len(string)<len(new_string):\n",
    "        return string\n",
    "    else:\n",
    "        return new_string"
   ]
  },
  {
   "cell_type": "code",
   "execution_count": 116,
   "metadata": {},
   "outputs": [
    {
     "name": "stdout",
     "output_type": "stream",
     "text": [
      "a2b1c5a3\n",
      "hello\n",
      "h1e1l3o4\n"
     ]
    }
   ],
   "source": [
    "string=\"aabcccccaaa\"\n",
    "print(compression(string))\n",
    "string=\"hello\"\n",
    "print(compression(string))\n",
    "string=\"hellloooo\"\n",
    "print(compression(string))"
   ]
  },
  {
   "cell_type": "markdown",
   "metadata": {},
   "source": [
    "### 1.7 Rotate Matrix\n",
    "##### Given an image represented by an NxN matrix, where each pixel in the image is 4 bytes, write a method to rotate the image by 90 degrees. Can you do this in place?"
   ]
  },
  {
   "cell_type": "code",
   "execution_count": 70,
   "metadata": {},
   "outputs": [],
   "source": [
    "import numpy as np\n",
    "from scipy import linalg\n",
    "\n",
    "def rotateImg(image):\n",
    "    n=len(image[0])\n",
    "    temp=np.zeros(n)\n",
    "    for i in range(int(n/2)):\n",
    "        for j in range(n):\n",
    "            temp[j]=image[i][j]\n",
    "        image[i]=image[n-1-i]\n",
    "        image[n-1-i]=temp\n",
    "    image=image.transpose()\n",
    "    return image\n",
    "            "
   ]
  },
  {
   "cell_type": "code",
   "execution_count": 71,
   "metadata": {},
   "outputs": [
    {
     "name": "stdout",
     "output_type": "stream",
     "text": [
      "[[13  9  5  1]\n",
      " [14 10  6  2]\n",
      " [15 11  7  3]\n",
      " [16 12  8  4]]\n"
     ]
    }
   ],
   "source": [
    "image=np.array([[1,2,3,4],[5,6,7,8],[9,10,11,12],[13,14,15,16]])\n",
    "print(rotateImg(image))"
   ]
  },
  {
   "cell_type": "markdown",
   "metadata": {},
   "source": [
    "### 1.8 Zero Matrix \n",
    "##### Write an algorithm such that if an element in an MxN matrix is 0, its column and row are set to 0."
   ]
  },
  {
   "cell_type": "code",
   "execution_count": 91,
   "metadata": {},
   "outputs": [],
   "source": [
    "def turnZero(array):\n",
    "    m=len(array)\n",
    "    n=len(array[0])\n",
    "    zero_rows=np.zeros(n)\n",
    "    zero_cols=np.zeros(m)\n",
    "    for i in range(m):\n",
    "        for j in range(n):\n",
    "            if array[i][j]==0:\n",
    "                zero_rows[j]=1\n",
    "                zero_cols[i]=1\n",
    "    for i in range(m):\n",
    "        for j in range(n):\n",
    "                if zero_cols[i]==1 or zero_rows[j]==1:\n",
    "                    array[i][j]=0\n",
    "    return array            \n",
    "            "
   ]
  },
  {
   "cell_type": "code",
   "execution_count": 94,
   "metadata": {},
   "outputs": [
    {
     "name": "stdout",
     "output_type": "stream",
     "text": [
      "[[1, 2], [3, 4]]\n",
      "[[0, 0, 0], [0, 0, 0], [5, 0, 0]]\n"
     ]
    }
   ],
   "source": [
    "array = [[1,2],[3,4]]\n",
    "print(turnZero(array))\n",
    "\n",
    "array2 = [[1,0,4],[5,2,0],[5,10,9]]\n",
    "print(turnZero(array2))"
   ]
  },
  {
   "cell_type": "markdown",
   "metadata": {},
   "source": [
    "### 1.9 String Rotation\n",
    "##### Assume you have a method isSubstring which checks if one word is a substring of another. Given two strings, s1 and s2, write code to check if s2 is a rotation of s1 using only one call to isSubstring (e.g. \"waterbottle\" is a rotation of \"erbottlewat\")."
   ]
  },
  {
   "cell_type": "code",
   "execution_count": 105,
   "metadata": {},
   "outputs": [],
   "source": [
    "def isRotation(s1,s2):\n",
    "    start_s2=-1\n",
    "    if len(s1)!=len(s2):\n",
    "        return False\n",
    "    for i in range(len(s2)):\n",
    "        if s2[i]==s1[0]:\n",
    "            start_s2=i\n",
    "            break\n",
    "        elif i==len(s2)-1:\n",
    "            return False\n",
    "    for j in range(1,len(s1)):\n",
    "        if start_s2+j==len(s2):\n",
    "            start_s2-=start_s2+j\n",
    "        if s1[j]!=s2[start_s2+j]:\n",
    "            return False\n",
    "    return True"
   ]
  },
  {
   "cell_type": "code",
   "execution_count": 108,
   "metadata": {},
   "outputs": [
    {
     "name": "stdout",
     "output_type": "stream",
     "text": [
      "True\n",
      "True\n",
      "True\n",
      "False\n"
     ]
    }
   ],
   "source": [
    "s1=\"waterbottle\"\n",
    "s2=\"erbottlewat\"\n",
    "print(isRotation(s1,s2))\n",
    "print(isRotation(s2,s1))\n",
    "s1=\"Meredith\"\n",
    "s2=\"dithMere\"\n",
    "print(isRotation(s1,s2))\n",
    "s1=\"waterbottle\"\n",
    "s2=\"elbottlewat\"\n",
    "print(isRotation(s1,s2))"
   ]
  },
  {
   "cell_type": "markdown",
   "metadata": {},
   "source": [
    "# Section 2: Linked Lists"
   ]
  },
  {
   "cell_type": "code",
   "execution_count": 11,
   "metadata": {},
   "outputs": [],
   "source": [
    "class Element(object):\n",
    "    def __init__(self,value):\n",
    "        self.value = value\n",
    "        self.next = None\n",
    "\n",
    "class linkedList(object):\n",
    "    def __init__(self,head=None):\n",
    "        self.head=head\n",
    "    \n",
    "    def append(self, new_element):\n",
    "            current = self.head\n",
    "            if self.head:\n",
    "                while current.next:\n",
    "                    current = current.next\n",
    "                current.next = new_element\n",
    "            else:\n",
    "                self.head = new_element\n",
    "\n",
    "    def get_position(self, position):\n",
    "        #Get the value at the current position\n",
    "        i=1\n",
    "        current = self.head\n",
    "        while current.next and i<position:\n",
    "            current = current.next\n",
    "            i+=1\n",
    "        if i==position:\n",
    "            return current\n",
    "            #else:\n",
    "             #   return None\n",
    "\n",
    "    def insert(self, new_element, position):\n",
    "        #Inserts a new node at the given position.\n",
    "        #Assumes the first position[head] is \"1\".\"\"\"\n",
    "        i=1\n",
    "        current = self.head\n",
    "        while i<(position-1):\n",
    "            current = current.next\n",
    "            i+=1\n",
    "        if current.next:\n",
    "            new_element.next = current.next  #new element points ahead if there is an element\n",
    "        current.next = new_element #node before points to new element\n",
    "        pass\n",
    "\n",
    "\n",
    "    def delete(self, value):\n",
    "        #Deletes the first node with a given value.\n",
    "        current = self.head\n",
    "        if current.value == value:\n",
    "            self.head = current.next\n",
    "        else:\n",
    "            while current.next.value!=value:\n",
    "                current = current.next\n",
    "            current.next = current.next.next\n",
    "        pass\n",
    "    \n",
    "    def printList(self):\n",
    "        current=self.head\n",
    "        print(current.value)\n",
    "        while current.next:\n",
    "            print(current.next.value)\n",
    "            current=current.next\n",
    "        pass\n",
    "    "
   ]
  },
  {
   "cell_type": "markdown",
   "metadata": {
    "collapsed": true
   },
   "source": [
    "### 2.1 Remove Dups\n",
    "##### Write code to remove duplicates from an unsorted linked list\n",
    "###### How would you solve this problem if a temporary buffer is not allowed?"
   ]
  },
  {
   "cell_type": "code",
   "execution_count": 12,
   "metadata": {},
   "outputs": [],
   "source": [
    "def removeDups(ll):\n",
    "    current=ll.head\n",
    "    values=[]\n",
    "    while current.next:\n",
    "        values.append(current.value)\n",
    "        for i in range(len(values)):\n",
    "            if current.next.value==values[i]:\n",
    "                if current.next.next:\n",
    "                    current.next=current.next.next\n",
    "                else:\n",
    "                    current.next=None\n",
    "                break\n",
    "        current=current.next\n",
    "    pass\n",
    "        "
   ]
  },
  {
   "cell_type": "code",
   "execution_count": 18,
   "metadata": {},
   "outputs": [
    {
     "name": "stdout",
     "output_type": "stream",
     "text": [
      "5\n",
      "1\n",
      "2\n",
      "3\n",
      "4\n",
      "6\n"
     ]
    }
   ],
   "source": [
    "ll=linkedList()\n",
    "e=Element(5)\n",
    "ll.append(e)\n",
    "e=Element(5)\n",
    "ll.append(e)\n",
    "e=Element(1)\n",
    "ll.append(e)\n",
    "e=Element(2)\n",
    "ll.append(e)\n",
    "e=Element(3)\n",
    "ll.append(e)\n",
    "e=Element(4)\n",
    "ll.append(e)\n",
    "e=Element(2)\n",
    "ll.append(e)\n",
    "e=Element(6)\n",
    "ll.append(e)\n",
    "\n",
    "removeDups(ll)\n",
    "ll.printList()"
   ]
  },
  {
   "cell_type": "markdown",
   "metadata": {},
   "source": [
    "### 2.2 Return Kth to Last\n",
    "##### Implement an algorithm to remove te kth to last element of a singly linked list."
   ]
  },
  {
   "cell_type": "code",
   "execution_count": 23,
   "metadata": {},
   "outputs": [],
   "source": [
    "def removeK(ll,k):\n",
    "    current=ll.head\n",
    "    c=1 #count of elements\n",
    "    while current.next:\n",
    "        c+=1\n",
    "        current=current.next\n",
    "    current=ll.head\n",
    "    if c-k-1>0:\n",
    "        for i in range(c-k-1):\n",
    "            current=current.next\n",
    "        current.next=current.next.next\n",
    "    pass\n",
    "    "
   ]
  },
  {
   "cell_type": "code",
   "execution_count": 24,
   "metadata": {},
   "outputs": [
    {
     "name": "stdout",
     "output_type": "stream",
     "text": [
      "8  nodes\n",
      "5\n",
      "5\n",
      "1\n",
      "2\n",
      "3\n",
      "2\n",
      "6\n"
     ]
    }
   ],
   "source": [
    "ll=linkedList()\n",
    "e=Element(5)\n",
    "ll.append(e)\n",
    "e=Element(5)\n",
    "ll.append(e)\n",
    "e=Element(1)\n",
    "ll.append(e)\n",
    "e=Element(2)\n",
    "ll.append(e)\n",
    "e=Element(3)\n",
    "ll.append(e)\n",
    "e=Element(4)\n",
    "ll.append(e)\n",
    "e=Element(2)\n",
    "ll.append(e)\n",
    "e=Element(6)\n",
    "ll.append(e)\n",
    "\n",
    "removeK(ll,3)\n",
    "ll.printList()"
   ]
  },
  {
   "cell_type": "markdown",
   "metadata": {},
   "source": [
    "### 2.3 Delete Middle Node\n",
    "##### Implement an algorithm to delete a node in the middle (i.e. any node but the first and last node, not necessarily the exact middle) of a single linked list, given only access to that node."
   ]
  },
  {
   "cell_type": "code",
   "execution_count": 27,
   "metadata": {},
   "outputs": [],
   "source": [
    "def removeMiddle(node):\n",
    "    node.value = node.next.value\n",
    "    node.next = node.next.next\n",
    "    "
   ]
  },
  {
   "cell_type": "code",
   "execution_count": 28,
   "metadata": {},
   "outputs": [
    {
     "name": "stdout",
     "output_type": "stream",
     "text": [
      "5\n",
      "5\n",
      "1\n",
      "2\n",
      "4\n",
      "2\n",
      "6\n"
     ]
    }
   ],
   "source": [
    "ll=linkedList()\n",
    "e=Element(5)\n",
    "ll.append(e)\n",
    "e=Element(5)\n",
    "ll.append(e)\n",
    "e=Element(1)\n",
    "ll.append(e)\n",
    "e=Element(2)\n",
    "ll.append(e)\n",
    "f=Element(3)\n",
    "ll.append(f)\n",
    "e=Element(4)\n",
    "ll.append(e)\n",
    "e=Element(2)\n",
    "ll.append(e)\n",
    "e=Element(6)\n",
    "ll.append(e)\n",
    "\n",
    "removeMiddle(f)\n",
    "ll.printList()"
   ]
  },
  {
   "cell_type": "markdown",
   "metadata": {},
   "source": [
    "### 2.4 Partition\n",
    "##### Write code to partition a linked list around a value x, such that all nodes less than x come before all nodes greater than or equal to x. If x is contained within the list, the values of x only need to be after the elements less than x."
   ]
  },
  {
   "cell_type": "code",
   "execution_count": 40,
   "metadata": {},
   "outputs": [],
   "source": [
    "def partition(ll,x):\n",
    "    c=1\n",
    "    while c>0:\n",
    "        c=0\n",
    "        current=ll.head\n",
    "        while current.next:\n",
    "            if current.value>=x and current.next.value<x:\n",
    "                c+=1\n",
    "                current.value,current.next.value=current.next.value,current.value\n",
    "            current=current.next\n",
    "    pass"
   ]
  },
  {
   "cell_type": "code",
   "execution_count": 42,
   "metadata": {},
   "outputs": [
    {
     "name": "stdout",
     "output_type": "stream",
     "text": [
      "Final: \n",
      "1\n",
      "2\n",
      "3\n",
      "2\n",
      "5\n",
      "5\n",
      "4\n",
      "6\n"
     ]
    }
   ],
   "source": [
    "ll=linkedList()\n",
    "e=Element(5)\n",
    "ll.append(e)\n",
    "e=Element(5)\n",
    "ll.append(e)\n",
    "e=Element(1)\n",
    "ll.append(e)\n",
    "e=Element(2)\n",
    "ll.append(e)\n",
    "f=Element(3)\n",
    "ll.append(f)\n",
    "e=Element(4)\n",
    "ll.append(e)\n",
    "e=Element(2)\n",
    "ll.append(e)\n",
    "e=Element(6)\n",
    "ll.append(e)\n",
    "\n",
    "partition(ll,4)\n",
    "print(\"Final: \")\n",
    "ll.printList()"
   ]
  },
  {
   "cell_type": "markdown",
   "metadata": {},
   "source": [
    "### 2.5 Sum Lists\n",
    "##### You have two numbers represented by a linked list, where each node contains a single digit. The digits are stored in reverse order, such that the 1' digit is at the head of the list. Write a function that adds the two numbers and returns the sum as a linked list."
   ]
  },
  {
   "cell_type": "code",
   "execution_count": 58,
   "metadata": {},
   "outputs": [],
   "source": [
    "def sumLists(list_a,list_b):\n",
    "    r=0 #rollover \n",
    "    a=0 #boolean if a is done\n",
    "    b=0 #boolearn if b is done\n",
    "    sumList=linkedList()\n",
    "    a_current=list_a.head\n",
    "    b_current=list_b.head\n",
    "    while a==0 and b==0:\n",
    "        digit=r+a_current.value+b_current.value\n",
    "        r=digit//10\n",
    "        digit=digit%10\n",
    "        e=Element(digit)\n",
    "        sumList.append(e)\n",
    "        if a_current.next:\n",
    "            a_current=a_current.next\n",
    "        else:\n",
    "            a=1\n",
    "        if b_current.next:\n",
    "            b_current=b_current.next\n",
    "        else:\n",
    "            b=1\n",
    "    if a==0:\n",
    "        e=Element(r+a_current.value)\n",
    "        sumList.append(e)\n",
    "    elif b==0:\n",
    "        e=Element(r+b_current.value)\n",
    "        sumList.append(e)\n",
    "    return sumList\n",
    "    \n",
    "        \n",
    "   \n",
    "    "
   ]
  },
  {
   "cell_type": "code",
   "execution_count": 63,
   "metadata": {},
   "outputs": [
    {
     "name": "stdout",
     "output_type": "stream",
     "text": [
      "List a: \n",
      "8\n",
      "3\n",
      "7\n",
      "List b: \n",
      "5\n",
      "9\n",
      "2\n",
      "2\n",
      "Sum of lists: \n",
      "digit:  3\n",
      "rollover:  1\n",
      "digit:  3\n",
      "rollover:  1\n",
      "digit:  0\n",
      "rollover:  1\n",
      "3\n",
      "3\n",
      "0\n",
      "3\n"
     ]
    }
   ],
   "source": [
    "list_a=linkedList()\n",
    "e=Element(8)\n",
    "list_a.append(e)\n",
    "e=Element(3)\n",
    "list_a.append(e)\n",
    "e=Element(7)\n",
    "list_a.append(e)\n",
    "list_b=linkedList()\n",
    "e=Element(5)\n",
    "list_b.append(e)\n",
    "e=Element(9)\n",
    "list_b.append(e)\n",
    "e=Element(2)\n",
    "list_b.append(e)\n",
    "e=Element(2)\n",
    "list_b.append(e)\n",
    "\n",
    "print(\"List a: \")\n",
    "list_a.printList()\n",
    "print(\"List b: \")\n",
    "list_b.printList()\n",
    "\n",
    "print(\"Sum of lists: \")\n",
    "added=sumLists(list_a,list_b)\n",
    "added.printList()"
   ]
  },
  {
   "cell_type": "markdown",
   "metadata": {},
   "source": [
    "### 2.6 Palindrome\n",
    "##### Implement a function to check if a linked list is a palindrome"
   ]
  },
  {
   "cell_type": "code",
   "execution_count": 64,
   "metadata": {},
   "outputs": [],
   "source": [
    "def palindromeList(llist):\n",
    "    current=llist.head\n",
    "    elements=[]\n",
    "    n=1\n",
    "    elements.append(current.value)\n",
    "    while current.next:\n",
    "        n+=1\n",
    "        elements.append(current.next.value)\n",
    "        current=current.next\n",
    "    for i in range(int(n/2)):\n",
    "        if elements[i]!=elements[n-i-1]:\n",
    "            return False\n",
    "    return True"
   ]
  },
  {
   "cell_type": "code",
   "execution_count": 67,
   "metadata": {},
   "outputs": [
    {
     "name": "stdout",
     "output_type": "stream",
     "text": [
      "True\n"
     ]
    }
   ],
   "source": [
    "llist=linkedList()\n",
    "a=Element(\"a\")\n",
    "b=Element(\"b\")\n",
    "c=Element(\"b\")\n",
    "d=Element(\"a\")\n",
    "#e=Element(\"c\")\n",
    "llist.append(a)\n",
    "llist.append(b)\n",
    "llist.append(c)\n",
    "llist.append(d)\n",
    "#llist.append(e)\n",
    "\n",
    "print(palindromeList(llist))\n"
   ]
  },
  {
   "cell_type": "markdown",
   "metadata": {},
   "source": [
    "### 2.7 Intersection\n",
    "##### Given two (singly) linked lists, determine if the two lists intersect. Return the intersecting node. Note that the intersection is defined based on reference, not a value. That is, if the kth node of the first linked list is the exact same node (by reference as the jth node of the second linked list, then they are intersecting)."
   ]
  },
  {
   "cell_type": "code",
   "execution_count": 131,
   "metadata": {},
   "outputs": [],
   "source": [
    "def intersection(list_a,list_b):\n",
    "    a=list_a.head\n",
    "    nodes=[a.value]\n",
    "    while a.next:\n",
    "        nodes.append(a.next.value)\n",
    "        a=a.next\n",
    "    b=list_b.head\n",
    "    for i in range(len(nodes)):\n",
    "        if b.value==nodes[i]:\n",
    "            return b\n",
    "    while b.next:\n",
    "        for i in range(len(nodes)):\n",
    "            if b.next.value==nodes[i]:\n",
    "                return b.next\n",
    "        b=b.next\n",
    "    pass"
   ]
  },
  {
   "cell_type": "code",
   "execution_count": 132,
   "metadata": {},
   "outputs": [
    {
     "name": "stdout",
     "output_type": "stream",
     "text": [
      "c\n"
     ]
    }
   ],
   "source": [
    "a=Element(\"a\")\n",
    "b=Element(\"b\")\n",
    "c=Element(\"c\")\n",
    "d=Element(\"d\")\n",
    "e=Element(\"e\")\n",
    "f=Element(\"f\")\n",
    "g=Element(\"g\")\n",
    "\n",
    "list_a=linkedList()\n",
    "list_a.append(a)\n",
    "list_a.append(b)\n",
    "list_a.append(c)\n",
    "list_a.append(d)\n",
    "list_a.append(e)\n",
    "list_a.append(f)\n",
    "list_a.append(g)\n",
    "\n",
    "\n",
    "\n",
    "list_b=linkedList()\n",
    "c=Element(\"c\")\n",
    "d=Element(\"d\")\n",
    "e=Element(\"e\")\n",
    "list_b.append(c)\n",
    "list_b.append(d)\n",
    "list_b.append(e)\n",
    "\n",
    "\n",
    "node=intersection(list_a,list_b)\n",
    "print(node.value)"
   ]
  },
  {
   "cell_type": "markdown",
   "metadata": {},
   "source": [
    "### 2.8 Loop Detection\n",
    "##### Given a circular linked list, implement an algorithm that returns the node at the beginning of the loop."
   ]
  },
  {
   "cell_type": "code",
   "execution_count": 101,
   "metadata": {},
   "outputs": [],
   "source": [
    "def loopDetect(llist):\n",
    "    a=llist.head\n",
    "    nodes=[a]\n",
    "    while a.next:\n",
    "        for i in range(len(nodes)):\n",
    "            if a.next==nodes[i]:\n",
    "                return a.next\n",
    "        nodes.append(a.next)\n",
    "        a=a.next"
   ]
  },
  {
   "cell_type": "code",
   "execution_count": 108,
   "metadata": {},
   "outputs": [
    {
     "name": "stdout",
     "output_type": "stream",
     "text": [
      "e\n"
     ]
    }
   ],
   "source": [
    "a=Element(\"a\")\n",
    "b=Element(\"b\")\n",
    "c=Element(\"c\")\n",
    "d=Element(\"d\")\n",
    "e=Element(\"e\")\n",
    "f=Element(\"f\")\n",
    "g=Element(\"g\")\n",
    "g.next=e\n",
    "llist=linkedList()\n",
    "llist.append(a)\n",
    "llist.append(b)\n",
    "llist.append(c)\n",
    "llist.append(d)\n",
    "llist.append(e)\n",
    "llist.append(f)\n",
    "llist.append(g)\n",
    "\n",
    "\n",
    "node = loopDetect(llist)\n",
    "print(node.value)"
   ]
  },
  {
   "cell_type": "markdown",
   "metadata": {},
   "source": [
    "# Section 3: Stacks and Queues"
   ]
  },
  {
   "cell_type": "markdown",
   "metadata": {},
   "source": [
    "### 3.1 Three in One\n",
    "##### Describe how you could use a single array to implement three stacks."
   ]
  },
  {
   "cell_type": "markdown",
   "metadata": {},
   "source": [
    "For a 1D array, reserve the first third for stack 1, middle third for stack 2, and last third for stack 3. Keep track of 3 variables indicating the top index of the top of each stack.\n",
    "\n",
    "The same could work with a 2D array."
   ]
  },
  {
   "cell_type": "markdown",
   "metadata": {},
   "source": [
    "### 3.2 Stack Min\n",
    "##### How would you design a stack which, in addition to push and pop has a function min which returns the minimum element?"
   ]
  },
  {
   "cell_type": "markdown",
   "metadata": {},
   "source": [
    "Keep track of the minimum element as a property of the stack class. Every element added should be compared to the current min, and min should be replaced if the new element is less than the current min."
   ]
  },
  {
   "cell_type": "code",
   "execution_count": null,
   "metadata": {},
   "outputs": [],
   "source": [
    "class stack(object):\n",
    "    def __init__(self):\n",
    "        self.min=1000000\n",
    "        self.values=[]\n",
    "        \n",
    "    def push(self,value):\n",
    "        if value<self.min:\n",
    "            self.min=value\n",
    "        self.values.append(value)"
   ]
  },
  {
   "cell_type": "markdown",
   "metadata": {},
   "source": [
    "### 3.3 Stack of Plates\n",
    "##### Imagine a (literal) stack of plates. If the stack gets too tall, the plates fall. Therefore, in real ife, we would likely start a new stack when the previous stack exceeds a threshold. Implement a data structure SetOfStacks that mimics this. Should create a new stack once the previous once exceeds a threshold.\n",
    "\n",
    "##### Implement a function popAt(index) whic performs a pop operation on a specific substack. "
   ]
  },
  {
   "cell_type": "code",
   "execution_count": 1,
   "metadata": {},
   "outputs": [],
   "source": [
    "class stack(object):\n",
    "    def __init__(self,threshold):\n",
    "        self.values=[]\n",
    "        self.n=-1\n",
    "        self.threshold=threshold\n",
    "        \n",
    "    def __init__(self):\n",
    "        self.values=[]\n",
    "        self.n=-1\n",
    "        self.threshold=20\n",
    "        \n",
    "    def push(self, value):\n",
    "        self.values.append(value)\n",
    "        self.n+=1\n",
    "        pass\n",
    "        \n",
    "    def pop(self):\n",
    "        popped=self.values[n]\n",
    "        self.values=self.values[0:n]\n",
    "        self.n-=1\n",
    "        return popped\n",
    "    \n",
    "    def isEmpty(self):\n",
    "        if n==-1:\n",
    "            return True\n",
    "        else:\n",
    "            return False\n",
    "        \n",
    "    def peek(self):\n",
    "        return self.values[n]\n",
    "        \n",
    "class SetOfStacks(object):\n",
    "    def __init__(self):\n",
    "        self.i=0\n",
    "        self.stacks=[]\n",
    "        \n",
    "    def push(self,value):\n",
    "        if self.stacks[i].n==self.threshold:\n",
    "            if len(self.stacks)==i:\n",
    "                self.stacks.append(stack())\n",
    "            i+=1\n",
    "        self.stacks[i].push(value)\n",
    "        \n",
    "    def pop(self):\n",
    "        if self.values[i].n<0:\n",
    "            i-=1\n",
    "        popped=self.values[i].pop()\n",
    "        return popped\n",
    "    \n",
    "    def popAt(self,index):\n",
    "        if self.stacks[i].n<0:\n",
    "            return None\n",
    "        else:\n",
    "            return self.stacks[i].pop()"
   ]
  },
  {
   "cell_type": "markdown",
   "metadata": {},
   "source": [
    "### 3.4 Queue via Stacks\n",
    "##### Implement a MyQueue class which implements a queue using two stacks."
   ]
  },
  {
   "cell_type": "code",
   "execution_count": null,
   "metadata": {},
   "outputs": [],
   "source": [
    "#Added isEmpty() to previous stack class\n",
    "class MyQueue(object):\n",
    "    def __init__(self):\n",
    "        self.stack_push=stack()\n",
    "        self.stack_pop=stack()\n",
    "        \n",
    "    def push(self,value):\n",
    "        self.stack_push.push(value)\n",
    "        \n",
    "    def pop(self):\n",
    "        while stack_push.isEmpty==False:\n",
    "            self.stack_pop.push(self.stack_push.pop())\n",
    "        popped=self.stack_pop.pop()\n",
    "        while stack_pop.isEmpty==False:\n",
    "            self.stack_push.push(self.stack_pop.pop())\n",
    "        return popped"
   ]
  },
  {
   "cell_type": "markdown",
   "metadata": {},
   "source": [
    "### 3.5 Sort Stack\n",
    "##### Write a program to sort a stack such that the smallest items are on the top. You may use an additional temporary stack, but you may not copy the elements into any other data structure such as an array). The stack supports the following operations: push, pop, peek, and isEmpty(). "
   ]
  },
  {
   "cell_type": "code",
   "execution_count": 2,
   "metadata": {},
   "outputs": [],
   "source": [
    "#added peek function to previous stack class\n",
    "def sortStack(my_stack):\n",
    "    a=0\n",
    "    c=1\n",
    "    stack_from=my_stack\n",
    "    stack_to=stack()\n",
    "    while c!=0 or a==0:\n",
    "        c=0\n",
    "        a=1-a\n",
    "        temp=stack_from.pop()\n",
    "        while stack_from.isEmpty()==False:      \n",
    "            if temp>stack_from.peek()==a:\n",
    "                stack_to.push(stack_from.pop())\n",
    "                c+=1\n",
    "            else:\n",
    "                stack_to.push(temp)\n",
    "                if stack_from.isEmpty()==False:\n",
    "                    temp=stack_from.pop()\n",
    "                else:\n",
    "                    temp=None\n",
    "        if temp!=None:\n",
    "            stack_to.push(temp)\n",
    "            temp=None\n",
    "        stack_to,stack_from = stack_from,stack_to\n",
    "    my_sorted_stack=stack_to #check this\n",
    "    return my_sorted_stack"
   ]
  },
  {
   "cell_type": "markdown",
   "metadata": {},
   "source": [
    "### 3.6 Animal Shelter\n",
    "##### An animal shelter, which holds only dogs and cats, operates on a strictly \"first in, first out\" basis. People must adopt either the \"oldest\" (based on arrival time) of all animals, or they can select whether they would prefer a dog or a cat (and will receive the oldest of that type). They cannot select which specific animal they would like. Create the data structures to maintain this system and implement operations such as enqueue, dequeueAny, dequeueDog, and dequeueCat. You may use the build_in LinkedList data structure."
   ]
  },
  {
   "cell_type": "code",
   "execution_count": 12,
   "metadata": {},
   "outputs": [],
   "source": [
    "class animal(object):\n",
    "    def __init__(self,type):\n",
    "        self.type=type\n",
    "        self.next=None\n",
    "        \n",
    "class animalShelter(object):\n",
    "    def __init__(self):\n",
    "        self.head=None\n",
    "        self.cat=None\n",
    "        self.dog=None\n",
    "        \n",
    "    def enqueue(self,new_animal):\n",
    "        if self.head==None:\n",
    "            self.head=new_animal\n",
    "        else:\n",
    "            current=self.head\n",
    "            while current.next:\n",
    "                current=current.next\n",
    "            current.next=new_animal\n",
    "        if self.cat==None and new_animal.type==\"cat\":\n",
    "            self.cat=new_animal\n",
    "        elif self.dog==None and new_animal.type==\"dog\":\n",
    "            self.dog=new_animal\n",
    "        pass\n",
    "    \n",
    "    def dequeueCat(self):\n",
    "        animal=self.cat #pick the animal to adopt\n",
    "        #if cat is the oldest animal, change the pointer of the oldest animal\n",
    "        if self.head==self.cat:\n",
    "            self.head=self.head.next\n",
    "        #if not the oldest animal, make sure the next oldest animal no longer points to an adopted animal\n",
    "        else:\n",
    "            current=self.head\n",
    "            while current.next!=animal:\n",
    "                current=current.next\n",
    "            current.next=current.next.next\n",
    "        #redefine the oldest cat pointer\n",
    "        while self.cat.next.type!=\"cat\":\n",
    "            self.cat=self.cat.next\n",
    "        self.cat=self.cat.next\n",
    "        return animal\n",
    "    \n",
    "    def dequeueDog(self):\n",
    "        animal=self.dog\n",
    "        if self.head==self.dog:\n",
    "            self.head=self.head.next\n",
    "        else:\n",
    "            current=self.head\n",
    "            while current.next!=animal:\n",
    "                current=current.next\n",
    "            current.next=current.next.next\n",
    "        while self.dog.next.type!=\"dog\":\n",
    "            self.dog=self.dog.next\n",
    "        self.dog=self.dog.next\n",
    "        return animal\n",
    "    \n",
    "    def dequeueAny(self):\n",
    "        if self.head.type==\"cat\":\n",
    "            return self.dequeueCat()\n",
    "        else:\n",
    "            return self.dequeueDog()\n",
    "        \n",
    "    def showShelter(self):\n",
    "        current=self.head\n",
    "        while current.next!=None:\n",
    "            print(current.type)\n",
    "            current=current.next\n",
    "        print(current.type)\n",
    "        return\n",
    "            \n",
    "        "
   ]
  },
  {
   "cell_type": "code",
   "execution_count": 15,
   "metadata": {},
   "outputs": [
    {
     "name": "stdout",
     "output_type": "stream",
     "text": [
      "My shelter has: \n",
      "dog\n",
      "dog\n",
      "cat\n",
      "dog\n",
      "cat\n",
      "cat\n",
      "dog\n",
      "cat\n",
      "After adopting the oldest animal...it is a \n",
      "dog\n",
      "My shelter has: \n",
      "dog\n",
      "cat\n",
      "dog\n",
      "cat\n",
      "cat\n",
      "dog\n",
      "cat\n",
      "After adopting a cat...\n",
      "My shelter has: \n",
      "dog\n",
      "dog\n",
      "cat\n",
      "cat\n",
      "dog\n",
      "cat\n",
      "After adopting a dog...\n",
      "My shelter has: \n",
      "dog\n",
      "cat\n",
      "cat\n",
      "dog\n",
      "cat\n",
      "After adopting a cat...\n",
      "My shelter has: \n",
      "dog\n",
      "cat\n",
      "dog\n",
      "cat\n",
      "After adopting the oldest animal...it is a \n",
      "dog\n",
      "My shelter has: \n",
      "cat\n",
      "dog\n",
      "cat\n"
     ]
    }
   ],
   "source": [
    "this_shelter=animalShelter()\n",
    "this_shelter.enqueue(animal(\"dog\"))\n",
    "this_shelter.enqueue(animal(\"dog\"))\n",
    "this_shelter.enqueue(animal(\"cat\"))\n",
    "this_shelter.enqueue(animal(\"dog\"))\n",
    "this_shelter.enqueue(animal(\"cat\"))\n",
    "this_shelter.enqueue(animal(\"cat\"))\n",
    "this_shelter.enqueue(animal(\"dog\"))\n",
    "this_shelter.enqueue(animal(\"cat\"))\n",
    "\n",
    "print(\"My shelter has: \")\n",
    "this_shelter.showShelter()\n",
    "\n",
    "print(\"After adopting the oldest animal...it is a \")\n",
    "print(this_shelter.dequeueAny().type)\n",
    "print(\"My shelter has: \")\n",
    "this_shelter.showShelter()\n",
    "\n",
    "print(\"After adopting a cat...\")\n",
    "adopted=this_shelter.dequeueCat()\n",
    "print(\"My shelter has: \")\n",
    "this_shelter.showShelter()\n",
    "\n",
    "print(\"After adopting a dog...\")\n",
    "adopted=this_shelter.dequeueDog()\n",
    "print(\"My shelter has: \")\n",
    "this_shelter.showShelter()\n",
    "\n",
    "print(\"After adopting a cat...\")\n",
    "adopted=this_shelter.dequeueCat().type\n",
    "print(\"My shelter has: \")\n",
    "this_shelter.showShelter()\n",
    "\n",
    "print(\"After adopting the oldest animal...it is a \")\n",
    "print(this_shelter.dequeueAny().type)\n",
    "print(\"My shelter has: \")\n",
    "this_shelter.showShelter()\n"
   ]
  },
  {
   "cell_type": "code",
   "execution_count": null,
   "metadata": {},
   "outputs": [],
   "source": []
  }
 ],
 "metadata": {
  "kernelspec": {
   "display_name": "Python 3",
   "language": "python",
   "name": "python3"
  },
  "language_info": {
   "codemirror_mode": {
    "name": "ipython",
    "version": 3
   },
   "file_extension": ".py",
   "mimetype": "text/x-python",
   "name": "python",
   "nbconvert_exporter": "python",
   "pygments_lexer": "ipython3",
   "version": "3.7.3"
  }
 },
 "nbformat": 4,
 "nbformat_minor": 2
}
