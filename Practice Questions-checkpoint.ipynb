{
 "cells": [
  {
   "cell_type": "markdown",
   "metadata": {},
   "source": [
    "# Section 1: Arrays and Strings"
   ]
  },
  {
   "cell_type": "markdown",
   "metadata": {},
   "source": [
    "### 1.1 Is Unique \n",
    "##### Implement an algorithm to determine if a string has all unique characters. What if you cannot use additional data structures?"
   ]
  },
  {
   "cell_type": "code",
   "execution_count": 119,
   "metadata": {
    "collapsed": true
   },
   "outputs": [],
   "source": [
    "def isUnique(string):  \n",
    "    for i in range(0,len(string)):  \n",
    "        for j in range (i+1,len(string)):  \n",
    "            if string[i].upper()==string[j].upper():  \n",
    "                return False  \n",
    "    return True\n"
   ]
  },
  {
   "cell_type": "code",
   "execution_count": 120,
   "metadata": {},
   "outputs": [
    {
     "name": "stdout",
     "output_type": "stream",
     "text": [
      "False\n",
      "True\n",
      "False\n",
      "False\n"
     ]
    }
   ],
   "source": [
    "string=\"hello\"\n",
    "print(isUnique(string))\n",
    "string=\"hi\"\n",
    "print(isUnique(string))\n",
    "string=\"Meredith\"\n",
    "print(isUnique(string))\n",
    "string=\"MEredith\"\n",
    "print(isUnique(string))"
   ]
  },
  {
   "cell_type": "markdown",
   "metadata": {},
   "source": [
    "### 1.2 Check Purmutation\n",
    "##### Given two strings, write a method to decide if one is a permutation of the other."
   ]
  },
  {
   "cell_type": "code",
   "execution_count": 19,
   "metadata": {
    "collapsed": true
   },
   "outputs": [],
   "source": [
    "def isPerm(string_a, string_b):\n",
    "    lettersa=[]\n",
    "    lettersb=[]\n",
    "    if len(string_a)!=len(string_b):\n",
    "        return False\n",
    "    for i in range(0,len(string_a)):\n",
    "        lettersa.append(0)\n",
    "        lettersb.append(0)\n",
    "    for i in range(0,len(string_a)):\n",
    "        for j in range(len(string_b)):\n",
    "            if lettersb[j]==1:\n",
    "                continue\n",
    "            if string_a[i]==string_b[j]:\n",
    "                lettersb[j]=1\n",
    "                lettersa[i]=1\n",
    "            elif j==len(string_b)-1:\n",
    "                return False\n",
    "    return True\n"
   ]
  },
  {
   "cell_type": "code",
   "execution_count": 20,
   "metadata": {},
   "outputs": [
    {
     "name": "stdout",
     "output_type": "stream",
     "text": [
      "False\n",
      "False\n"
     ]
    }
   ],
   "source": [
    "string_a=\"hello\"\n",
    "string_b=\"oelhl\"\n",
    "print(isPerm(string_a,string_b))\n",
    "\n",
    "string_a=\"permutation\"\n",
    "string_b=\"pernutation\"\n",
    "print(isPerm(string_a,string_b))"
   ]
  },
  {
   "cell_type": "markdown",
   "metadata": {},
   "source": [
    "### 1.3 URLify\n",
    "##### Write a method to replace all spaces in a string with \"%20\". You may assume that the string has sufficient space at the end to hold the additional characters, and that you are given the \"true\" length of the string."
   ]
  },
  {
   "cell_type": "code",
   "execution_count": 21,
   "metadata": {
    "collapsed": true
   },
   "outputs": [],
   "source": [
    "def URL(string):\n",
    "    for i in range(len(string)):\n",
    "        if string[i]==\" \":\n",
    "            string=string[0:i]+\"%20\"+string[i+1:len(string)]   \n",
    "    return string"
   ]
  },
  {
   "cell_type": "code",
   "execution_count": 22,
   "metadata": {},
   "outputs": [
    {
     "name": "stdout",
     "output_type": "stream",
     "text": [
      "Hello%20my%20name%20is%20Meredith\n"
     ]
    }
   ],
   "source": [
    "string= \"Hello my name is Meredith\"\n",
    "print(URL(string))"
   ]
  },
  {
   "cell_type": "markdown",
   "metadata": {},
   "source": [
    "### 1.4 Palindrome Permutation\n",
    "##### Given a string, write a function to check if it is a permutation of a palindrome"
   ]
  },
  {
   "cell_type": "code",
   "execution_count": 51,
   "metadata": {
    "collapsed": true
   },
   "outputs": [],
   "source": [
    "def palindrome(string):\n",
    "    f=0 #flag\n",
    "    odd=len(string)%2 #is the word an odd # of letters long?\n",
    "    #print(odd)\n",
    "    checked=[] \n",
    "    for i in range(len(string)):\n",
    "        checked.append(0)\n",
    "    for i in range(len(string)):\n",
    "        c=0 #counter for occurence of letter\n",
    "        for j in range(i+1, len(string)):\n",
    "            if checked[i]==0 and checked[j]==0:\n",
    "                if string[i]==string[j]:\n",
    "                    c+=1\n",
    "                    checked[j]=1\n",
    "        if c==0 and checked[i]==0:\n",
    "            if f==0 and odd==1:\n",
    "                f=1 #set flag for 1 odd ball\n",
    "            else:\n",
    "                return False\n",
    "        checked[i]=1\n",
    "    return True                    \n",
    "        "
   ]
  },
  {
   "cell_type": "code",
   "execution_count": 52,
   "metadata": {},
   "outputs": [
    {
     "name": "stdout",
     "output_type": "stream",
     "text": [
      "True\n",
      "True\n",
      "False\n"
     ]
    }
   ],
   "source": [
    "string=\"racecar\"\n",
    "print(palindrome(string))\n",
    "string=\"tacocat\"\n",
    "print(palindrome(string))\n",
    "string=\"not a palindrome\"\n",
    "print(palindrome(string))"
   ]
  },
  {
   "cell_type": "markdown",
   "metadata": {},
   "source": [
    "### 1.5 One Away\n",
    "##### There are three types of edits that can be performed on strings: insert a character, remove a character, or replace a character. Given two strings, write a function to check if they are one edit (or zero edits) away."
   ]
  },
  {
   "cell_type": "code",
   "execution_count": 79,
   "metadata": {},
   "outputs": [],
   "source": [
    "def oneEdit(string_a,string_b):\n",
    "    f=0\n",
    "    a_offset=0\n",
    "    b_offset=0\n",
    "    AR=len(string_a)%len(string_b)\n",
    "    max_length=max(len(string_a),len(string_b))\n",
    "    for i in range(max_length):\n",
    "        if i<len(string_a) and i<len(string_b):\n",
    "            if string_a[i+a_offset]!=string_b[i+b_offset]:\n",
    "                if f==0:\n",
    "                    f=1\n",
    "                    if AR==0:\n",
    "                        continue\n",
    "                    else:\n",
    "                        if string_a[i+1]==string_b[i]:\n",
    "                            a_offset=1\n",
    "                        elif string_a[i]==string_b[i+1]:\n",
    "                            b_offset=1\n",
    "                elif f==1:\n",
    "                    return False\n",
    "        elif a_offset==b_offset==0:\n",
    "            if f!=0:\n",
    "                return False \n",
    "    return True\n",
    "                "
   ]
  },
  {
   "cell_type": "code",
   "execution_count": 80,
   "metadata": {},
   "outputs": [
    {
     "name": "stdout",
     "output_type": "stream",
     "text": [
      "True\n",
      "True\n",
      "True\n",
      "False\n"
     ]
    }
   ],
   "source": [
    "string_a=\"hello\"\n",
    "string_b=\"Hello\"\n",
    "print(oneEdit(string_a,string_b))\n",
    "string_a=\"hello\"\n",
    "string_b=\"ello\"\n",
    "print(oneEdit(string_a,string_b))\n",
    "string_a=\"ello\"\n",
    "string_b=\"hello\"\n",
    "print(oneEdit(string_a,string_b))\n",
    "string_a=\"hello\"\n",
    "string_b=\"Helloo\"\n",
    "print(oneEdit(string_a,string_b))"
   ]
  },
  {
   "cell_type": "markdown",
   "metadata": {},
   "source": [
    "### 1.6 String Compression\n",
    "##### Implement a method to perform basic string compression using the countrs of repeated characters. For example, aabcccccaaa would be a2b1c5a3. If the \"compressed\" string would not become smaller than the original string, your method should return the original string. You can assume the string only has uppercase and lowercase letters."
   ]
  },
  {
   "cell_type": "code",
   "execution_count": 115,
   "metadata": {
    "collapsed": true
   },
   "outputs": [],
   "source": [
    "def compression(string):\n",
    "    new_string=\"\"\n",
    "    c=1 #counter\n",
    "    i=0 #pointer 1\n",
    "    while i+c<len(string):\n",
    "        if string[i]==string[i+c]:\n",
    "            c+=1\n",
    "        else:\n",
    "            new_string+=string[i]+str(c)\n",
    "            i=i+c\n",
    "            c=1\n",
    "    new_string+=string[i]+str(c)\n",
    "    if len(string)<len(new_string):\n",
    "        return string\n",
    "    else:\n",
    "        return new_string"
   ]
  },
  {
   "cell_type": "code",
   "execution_count": 116,
   "metadata": {},
   "outputs": [
    {
     "name": "stdout",
     "output_type": "stream",
     "text": [
      "a2b1c5a3\n",
      "hello\n",
      "h1e1l3o4\n"
     ]
    }
   ],
   "source": [
    "string=\"aabcccccaaa\"\n",
    "print(compression(string))\n",
    "string=\"hello\"\n",
    "print(compression(string))\n",
    "string=\"hellloooo\"\n",
    "print(compression(string))"
   ]
  },
  {
   "cell_type": "markdown",
   "metadata": {},
   "source": [
    "### 1.7 Rotate Matrix\n",
    "##### Given an image represented by an NxN matrix, where each pixel in the image is 4 bytes, write a method to rotate the image by 90 degrees. Can you do this in place?"
   ]
  },
  {
   "cell_type": "code",
   "execution_count": 70,
   "metadata": {},
   "outputs": [],
   "source": [
    "import numpy as np\n",
    "from scipy import linalg\n",
    "\n",
    "def rotateImg(image):\n",
    "    n=len(image[0])\n",
    "    temp=np.zeros(n)\n",
    "    for i in range(int(n/2)):\n",
    "        for j in range(n):\n",
    "            temp[j]=image[i][j]\n",
    "        image[i]=image[n-1-i]\n",
    "        image[n-1-i]=temp\n",
    "    image=image.transpose()\n",
    "    return image\n",
    "            "
   ]
  },
  {
   "cell_type": "code",
   "execution_count": 71,
   "metadata": {},
   "outputs": [
    {
     "name": "stdout",
     "output_type": "stream",
     "text": [
      "[[13  9  5  1]\n",
      " [14 10  6  2]\n",
      " [15 11  7  3]\n",
      " [16 12  8  4]]\n"
     ]
    }
   ],
   "source": [
    "image=np.array([[1,2,3,4],[5,6,7,8],[9,10,11,12],[13,14,15,16]])\n",
    "print(rotateImg(image))"
   ]
  },
  {
   "cell_type": "markdown",
   "metadata": {},
   "source": [
    "### 1.8 Zero Matrix \n",
    "##### Write an algorithm such that if an element in an MxN matrix is 0, its column and row are set to 0."
   ]
  },
  {
   "cell_type": "code",
   "execution_count": 91,
   "metadata": {},
   "outputs": [],
   "source": [
    "def turnZero(array):\n",
    "    m=len(array)\n",
    "    n=len(array[0])\n",
    "    zero_rows=np.zeros(n)\n",
    "    zero_cols=np.zeros(m)\n",
    "    for i in range(m):\n",
    "        for j in range(n):\n",
    "            if array[i][j]==0:\n",
    "                zero_rows[j]=1\n",
    "                zero_cols[i]=1\n",
    "    for i in range(m):\n",
    "        for j in range(n):\n",
    "                if zero_cols[i]==1 or zero_rows[j]==1:\n",
    "                    array[i][j]=0\n",
    "    return array            \n",
    "            "
   ]
  },
  {
   "cell_type": "code",
   "execution_count": 94,
   "metadata": {},
   "outputs": [
    {
     "name": "stdout",
     "output_type": "stream",
     "text": [
      "[[1, 2], [3, 4]]\n",
      "[[0, 0, 0], [0, 0, 0], [5, 0, 0]]\n"
     ]
    }
   ],
   "source": [
    "array = [[1,2],[3,4]]\n",
    "print(turnZero(array))\n",
    "\n",
    "array2 = [[1,0,4],[5,2,0],[5,10,9]]\n",
    "print(turnZero(array2))"
   ]
  },
  {
   "cell_type": "markdown",
   "metadata": {},
   "source": [
    "### 1.9 String Rotation\n",
    "##### Assume you have a method isSubstring which checks if one word is a substring of another. Given two strings, s1 and s2, write code to check if s2 is a rotation of s1 using only one call to isSubstring (e.g. \"waterbottle\" is a rotation of \"erbottlewat\")."
   ]
  },
  {
   "cell_type": "code",
   "execution_count": 105,
   "metadata": {},
   "outputs": [],
   "source": [
    "def isRotation(s1,s2):\n",
    "    start_s2=-1\n",
    "    if len(s1)!=len(s2):\n",
    "        return False\n",
    "    for i in range(len(s2)):\n",
    "        if s2[i]==s1[0]:\n",
    "            start_s2=i\n",
    "            break\n",
    "        elif i==len(s2)-1:\n",
    "            return False\n",
    "    for j in range(1,len(s1)):\n",
    "        if start_s2+j==len(s2):\n",
    "            start_s2-=start_s2+j\n",
    "        if s1[j]!=s2[start_s2+j]:\n",
    "            return False\n",
    "    return True"
   ]
  },
  {
   "cell_type": "code",
   "execution_count": 108,
   "metadata": {},
   "outputs": [
    {
     "name": "stdout",
     "output_type": "stream",
     "text": [
      "True\n",
      "True\n",
      "True\n",
      "False\n"
     ]
    }
   ],
   "source": [
    "s1=\"waterbottle\"\n",
    "s2=\"erbottlewat\"\n",
    "print(isRotation(s1,s2))\n",
    "print(isRotation(s2,s1))\n",
    "s1=\"Meredith\"\n",
    "s2=\"dithMere\"\n",
    "print(isRotation(s1,s2))\n",
    "s1=\"waterbottle\"\n",
    "s2=\"elbottlewat\"\n",
    "print(isRotation(s1,s2))"
   ]
  },
  {
   "cell_type": "markdown",
   "metadata": {},
   "source": [
    "# Section 2: Linked Lists"
   ]
  },
  {
   "cell_type": "code",
   "execution_count": null,
   "metadata": {
    "collapsed": true
   },
   "outputs": [],
   "source": []
  }
 ],
 "metadata": {
  "kernelspec": {
   "display_name": "Python 3",
   "language": "python",
   "name": "python3"
  },
  "language_info": {
   "codemirror_mode": {
    "name": "ipython",
    "version": 3
   },
   "file_extension": ".py",
   "mimetype": "text/x-python",
   "name": "python",
   "nbconvert_exporter": "python",
   "pygments_lexer": "ipython3",
   "version": "3.7.3"
  }
 },
 "nbformat": 4,
 "nbformat_minor": 2
}
