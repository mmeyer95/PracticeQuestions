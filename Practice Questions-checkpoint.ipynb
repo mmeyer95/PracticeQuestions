{
 "cells": [
  {
   "cell_type": "markdown",
   "metadata": {},
   "source": [
    "# Section 1: Arrays and Strings"
   ]
  },
  {
   "cell_type": "markdown",
   "metadata": {},
   "source": [
    "#### 1.1 Is Unqie: Implement an algorithm to determine if a string has all unique characters. What if you cannot use additional data structures?"
   ]
  },
  {
   "cell_type": "markdown",
   "metadata": {},
   "source": [
    "def isUnique(string):  \n",
    "&nbsp; for i in range(0,len(string)):  \n",
    "\t\t&nbsp;&nbsp; for j in range (i+1,len(string)):  \n",
    "\t\t\t&nbsp;&nbsp;&nbsp; if string(i)==string(j):  \n",
    "\t\t\t\t&nbsp;&nbsp;&nbsp;&nbsp; return true  \n",
    "\t&nbsp; return false\n"
   ]
  },
  {
   "cell_type": "markdown",
   "metadata": {},
   "source": [
    "#### 1.2 Check Purmutation: Given two strings, write a method to decide if one is a permutation of the other."
   ]
  },
  {
   "cell_type": "markdown",
   "metadata": {},
   "source": [
    "def isPerm(string_a, string_b):\n",
    "\tif len(string_a)!=len(string_b):\n",
    "\t\treturn false\n",
    "    for i in range(0,len(string_a)):\n",
    "        letters.append(0)\n",
    "    for i in range(0,len(string_a)):\n",
    "        for j in range(len(letters)):\n",
    "            if letters(j)==1:\n",
    "                continue\n",
    "            if string_a(i)=string_b(j):\n",
    "                letters(j)=1\n",
    "            else if j==len(letters):\n",
    "                return false\n",
    "    return true\n"
   ]
  },
  {
   "cell_type": "markdown",
   "metadata": {},
   "source": [
    "#### 1.3 URLify: Write a method to replace all spaces in a string with \"%20\". You may assume that the string has sufficient space at the end to hold the additional characters, and that you are given the \"true\" length of the string."
   ]
  },
  {
   "cell_type": "markdown",
   "metadata": {},
   "source": [
    "def URL(string):\n",
    "    for i in range(len(string)):\n",
    "        if string(i)==\" \":\n",
    "            string=string(0:i)+\"%20\"+string(i+1:len(string))   \n",
    "    return string"
   ]
  },
  {
   "cell_type": "markdown",
   "metadata": {},
   "source": [
    "#### 1.4 Palindrome Permutation: Given a string, write a function to check if it is a permutation of a palindrome"
   ]
  },
  {
   "cell_type": "markdown",
   "metadata": {},
   "source": [
    "def palindrome(string):\n",
    "    f=0 #flag\n",
    "    if len(string)%2:\n",
    "        odd=1 #is the word odd?\n",
    "    for i in range(len(string)):\n",
    "        checked.append(0)\n",
    "    for i in range(len(string)):\n",
    "        c=0 #counter for occurence of letter\n",
    "        for j in range(i+1, len(string)):\n",
    "            if checked(i)==0 && checked(j)==0:\n",
    "                if string(i)==string(j):\n",
    "                    c+=1\n",
    "                    checked(i)=1\n",
    "                    checked(j)=1\n",
    "        if c==0:\n",
    "            if f==0 && odd==1:\n",
    "                f=1 #set flag for 1 odd ball\n",
    "            else:\n",
    "                return false\n",
    "    return true                    \n",
    "        "
   ]
  },
  {
   "cell_type": "markdown",
   "metadata": {},
   "source": [
    "#### 1.5 One Away: There are three types of edits that can be performed on strings: insert a character, remove a character, or replace a character. Given two strings, write a function to check if they are one edit (or zero edits) away."
   ]
  },
  {
   "cell_type": "markdown",
   "metadata": {},
   "source": [
    "def oneEdit(string_a,string_b):\n",
    "    f=0\n",
    "    a_offset=0\n",
    "    b_offset=1\n",
    "    if len(string_a)!=len(string_b):\n",
    "        AR=1\n",
    "    for i in range(len(string_a)):\n",
    "        for j in range(len(string_b)):\n",
    "            if string_a(i+a_offset)!=string_b(j+b_offset):\n",
    "                if f==0:\n",
    "                    f=1\n",
    "                    if AR==0:\n",
    "                        continue\n",
    "                    else:\n",
    "                        if string_a(i+1)==string_b(j):\n",
    "                            a_offset=1\n",
    "                        else if string_a(i)==string_b(j+1):\n",
    "                            b_offset=1\n",
    "                else if f==1:\n",
    "                    return false\n",
    "                "
   ]
  },
  {
   "cell_type": "markdown",
   "metadata": {},
   "source": [
    "#### 1.6 String Compression: Implement a method to perform basic string compression using the countrs of repeated characters. For example, aabcccccaaa would be a2b1c5a3. If the \"compressed\" string would not become smaller than the original string, your method should return the original string. You can assume the string only has uppercase and lowercase letters."
   ]
  },
  {
   "cell_type": "markdown",
   "metadata": {},
   "source": [
    "def compression(string):\n",
    "    old_string=string\n",
    "    c=1 #counter\n",
    "    i=0 #pointer 1\n",
    "    while i<(len(string)):\n",
    "        if string(i)==string(i+c):\n",
    "            c+=1\n",
    "        else:\n",
    "            string=string(0:i)+string(i)+c+string(i+c:len(string))\n",
    "            i+=1\n",
    "    if len(old_string)<len(string):\n",
    "        return old_string\n",
    "    else:\n",
    "        return string"
   ]
  },
  {
   "cell_type": "markdown",
   "metadata": {},
   "source": [
    "#### 1.7 Rotate Matrix: Given an image represented by an NxN matrix, where each pixel in the image is 4 bytes, write a method to rotate the image by 90 degrees. Can you do this in place?"
   ]
  },
  {
   "cell_type": "markdown",
   "metadata": {},
   "source": []
  }
 ],
 "metadata": {
  "kernelspec": {
   "display_name": "Python 3",
   "language": "python",
   "name": "python3"
  },
  "language_info": {
   "codemirror_mode": {
    "name": "ipython",
    "version": 3
   },
   "file_extension": ".py",
   "mimetype": "text/x-python",
   "name": "python",
   "nbconvert_exporter": "python",
   "pygments_lexer": "ipython3",
   "version": "3.6.2"
  }
 },
 "nbformat": 4,
 "nbformat_minor": 2
}
