{
 "cells": [
  {
   "cell_type": "markdown",
   "metadata": {},
   "source": [
    "# Question 1\n",
    "### Take the extra spaces out of a string"
   ]
  },
  {
   "cell_type": "code",
   "execution_count": 10,
   "metadata": {},
   "outputs": [],
   "source": [
    "def collapse_whitespace(test_str):\n",
    "    result_str=\"\"\n",
    "    f=0 #change to False\n",
    "    for each in test_str:\n",
    "        if each==' ' and f==0:\n",
    "            f=1\n",
    "            result_str+=each\n",
    "        elif each!=' ':\n",
    "            f=0\n",
    "            result_str+=each\n",
    "        else:\n",
    "            pass\n",
    "    return result_str"
   ]
  },
  {
   "cell_type": "code",
   "execution_count": 11,
   "metadata": {
    "scrolled": true
   },
   "outputs": [
    {
     "name": "stdout",
     "output_type": "stream",
     "text": [
      "foo bar\n",
      " foo bar \n",
      "foo bar\n"
     ]
    }
   ],
   "source": [
    "print(collapse_whitespace(\"foo bar\"))\n",
    "print(collapse_whitespace(\"     foo    bar    \"))\n",
    "print(collapse_whitespace(\"foo bar\"))"
   ]
  },
  {
   "cell_type": "markdown",
   "metadata": {},
   "source": [
    "# Question 2\n",
    "## Find the longest substring in a string of repeating letters\n",
    "### \"aabbbcc\" -> \"bbb\""
   ]
  },
  {
   "cell_type": "code",
   "execution_count": 12,
   "metadata": {
    "collapsed": true
   },
   "outputs": [],
   "source": [
    "def long_substring(test_str):\n",
    "    max_n=0\n",
    "    n=1\n",
    "    longest=\"\"\n",
    "    char=\"\"\n",
    "    for i in range(len(test_str)):\n",
    "        if test_str[i]==char:\n",
    "            n+=1\n",
    "        if test_str[i]!=char or i==len(test_str)-1:\n",
    "            if n>max_n:\n",
    "                if i==len(test_str)-1:\n",
    "                    longest=test_str[i-n+1:i+1]\n",
    "                else:\n",
    "                    longest=test_str[i-n:i]\n",
    "                max_n=n\n",
    "            n=1\n",
    "            char=test_str[i]\n",
    "    return longest"
   ]
  },
  {
   "cell_type": "code",
   "execution_count": 13,
   "metadata": {},
   "outputs": [
    {
     "name": "stdout",
     "output_type": "stream",
     "text": [
      "aa\n",
      "a\n",
      "aaaaaa\n",
      "cccc\n"
     ]
    }
   ],
   "source": [
    "print(long_substring(\"aabb\"))\n",
    "print(long_substring(\"a\"))\n",
    "print(long_substring(\"aaaaaa\"))\n",
    "print(long_substring(\"abbcccc\"))"
   ]
  },
  {
   "cell_type": "code",
   "execution_count": null,
   "metadata": {
    "collapsed": true
   },
   "outputs": [],
   "source": []
  }
 ],
 "metadata": {
  "kernelspec": {
   "display_name": "Python 3",
   "language": "python",
   "name": "python3"
  },
  "language_info": {
   "codemirror_mode": {
    "name": "ipython",
    "version": 3
   },
   "file_extension": ".py",
   "mimetype": "text/x-python",
   "name": "python",
   "nbconvert_exporter": "python",
   "pygments_lexer": "ipython3",
   "version": "3.6.2"
  }
 },
 "nbformat": 4,
 "nbformat_minor": 2
}
